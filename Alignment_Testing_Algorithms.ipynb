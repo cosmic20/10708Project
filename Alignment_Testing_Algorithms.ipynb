{
  "nbformat": 4,
  "nbformat_minor": 0,
  "metadata": {
    "colab": {
      "provenance": [],
      "gpuType": "T4"
    },
    "kernelspec": {
      "name": "python3",
      "display_name": "Python 3"
    },
    "language_info": {
      "name": "python"
    },
    "accelerator": "GPU"
  },
  "cells": [
    {
      "cell_type": "code",
      "execution_count": null,
      "metadata": {
        "id": "H1he8VL_5_T4"
      },
      "outputs": [],
      "source": [
        "!pip install Bio\n",
        "!pip install string2string\n",
        "from string2string.alignment import SmithWaterman\n",
        "from Bio import SeqIO\n",
        "import matplotlib.pyplot as plt"
      ]
    },
    {
      "cell_type": "code",
      "source": [
        "fasta_sequences = SeqIO.parse(open(\"/content/drive/MyDrive/10708 Project/covid_19.fasta\"),'fasta')\n",
        "# Define two strings (e.g., DNA sequences)\n",
        "consensus_sequence = \"\"\n",
        "for fasta in fasta_sequences:\n",
        "    if str(fasta.seq) != \"\":\n",
        "        consensus_sequence = str(fasta.seq)\n",
        "\n",
        "sw = SmithWaterman(match_weight=5, # weight for a match\n",
        "                   mismatch_weight=-1, # weight for a mismatch\n",
        "                   gap_weight=-2, # weight for a gap\n",
        "                   gap_char='-' # character to use for a gap\n",
        "                   )"
      ],
      "metadata": {
        "id": "5ApVtddy7c-c"
      },
      "execution_count": null,
      "outputs": []
    },
    {
      "cell_type": "code",
      "source": [
        "count = 0\n",
        "for char in consensus_sequence:\n",
        "  if char == \"G\" or char == \"C\":\n",
        "    count += 1\n",
        "\n",
        "print(count/len(consensus_sequence))"
      ],
      "metadata": {
        "id": "ODFs423sv6y6"
      },
      "execution_count": null,
      "outputs": []
    },
    {
      "cell_type": "markdown",
      "source": [
        "HMM Generated Sequence Local Alignment Score Distribution"
      ],
      "metadata": {
        "id": "BwuNePw689nN"
      }
    },
    {
      "cell_type": "code",
      "source": [
        "with open(\"/content/drive/MyDrive/10708 Project/Generated_Sequences/hmm_generated_sequences.txt\") as f:\n",
        "    all_lines = f.readlines()\n",
        "\n",
        "hmm_sequences = []\n",
        "for line in all_lines:\n",
        "    hmm_sequences += [str(line.split(\" \")[2][:-1])]\n"
      ],
      "metadata": {
        "id": "pdXFVnxCvbzE"
      },
      "execution_count": null,
      "outputs": []
    },
    {
      "cell_type": "code",
      "source": [
        "hmm_max_scores = []\n",
        "#hmm_sequences = SeqIO.parse(open(\"hmm_generated_sequences.fasta\"),'fasta')\n",
        "for fasta in hmm_sequences[:100]:\n",
        "    #seq2 = str(fasta.seq)\n",
        "    seq = fasta\n",
        "\n",
        "    # Compute the local alignment between them using the Smith-Waterman algorithm\n",
        "    aligned_seq1, aligned_seq2, score_matrix = sw.get_alignment(consensus_sequence, seq, return_score_matrix=True)\n",
        "\n",
        "    # Print the alignment\n",
        "    #print(f'Here is the local alignment, as computed by the Smith-Waterman algorithm:')\n",
        "    #sw.print_alignment(aligned_seq1, aligned_seq2)\n",
        "\n",
        "    #print(score_matrix, score_matrix.max())\n",
        "    hmm_max_scores += [score_matrix.max()]\n",
        "\n",
        "\n",
        "plt.hist(hmm_max_scores)\n",
        "plt.title(\"Frequency of Local Alignment Scores\")\n",
        "plt.xlabel(\"Score of Local Alignment\")\n",
        "plt.ylabel(\"Frequency\")\n",
        "plt.show()\n"
      ],
      "metadata": {
        "id": "9KHMYfsH7p-c"
      },
      "execution_count": null,
      "outputs": []
    },
    {
      "cell_type": "markdown",
      "source": [
        "GAN Generated Sequence Local Alignment Score Distribution"
      ],
      "metadata": {
        "id": "Li_bJ-JD9EfK"
      }
    },
    {
      "cell_type": "code",
      "source": [
        "with open(\"/content/drive/MyDrive/10708 Project/Generated_Sequences/GAN_Generated_Sequences.txt\") as f:\n",
        "  all_lines = f.readlines()\n",
        "\n",
        "gan_sequences = []\n",
        "for line in all_lines:\n",
        "  gan_sequences += [line[:-1]]"
      ],
      "metadata": {
        "id": "Ads-anBmvhBS"
      },
      "execution_count": null,
      "outputs": []
    },
    {
      "cell_type": "code",
      "source": [
        "gan_max_scores = []\n",
        "#hmm_sequences = SeqIO.parse(open(\"hmm_generated_sequences.fasta\"),'fasta')\n",
        "for fasta in gan_sequences[:100]:\n",
        "    #seq2 = str(fasta.seq)\n",
        "    seq = fasta\n",
        "\n",
        "    # Compute the local alignment between them using the Smith-Waterman algorithm\n",
        "    aligned_seq1, aligned_seq2, score_matrix = sw.get_alignment(consensus_sequence, seq, return_score_matrix=True)\n",
        "\n",
        "    # Print the alignment\n",
        "    #print(f'Here is the local alignment, as computed by the Smith-Waterman algorithm:')\n",
        "    #sw.print_alignment(aligned_seq1, aligned_seq2)\n",
        "\n",
        "    gan_max_scores += [score_matrix.max()]\n",
        "\n",
        "\n",
        "plt.hist(gan_max_scores)\n",
        "plt.title(\"Frequency of Local Alignment Scores\")\n",
        "plt.xlabel(\"Score of Local Alignment\")\n",
        "plt.ylabel(\"Frequency\")\n",
        "plt.show()"
      ],
      "metadata": {
        "id": "zNZa6Q9q878s"
      },
      "execution_count": null,
      "outputs": []
    },
    {
      "cell_type": "code",
      "source": [
        "with open(\"/content/drive/MyDrive/10708 Project/Generated_Sequences/VAE_sequences.txt\") as f:\n",
        "  all_lines = f.readlines()\n",
        "\n",
        "vae_sequences = []\n",
        "for line in all_lines:\n",
        "  vae_sequences += [line[:-1]]"
      ],
      "metadata": {
        "id": "H_vjlc-BSsA1"
      },
      "execution_count": null,
      "outputs": []
    },
    {
      "cell_type": "code",
      "source": [
        "vae_max_scores = []\n",
        "#hmm_sequences = SeqIO.parse(open(\"hmm_generated_sequences.fasta\"),'fasta')\n",
        "for fasta in vae_sequences:\n",
        "    #seq2 = str(fasta.seq)\n",
        "    seq = fasta\n",
        "\n",
        "    # Compute the local alignment between them using the Smith-Waterman algorithm\n",
        "    aligned_seq1, aligned_seq2, score_matrix = sw.get_alignment(consensus_sequence, seq, return_score_matrix=True)\n",
        "\n",
        "    # Print the alignment\n",
        "    #print(f'Here is the local alignment, as computed by the Smith-Waterman algorithm:')\n",
        "    #sw.print_alignment(aligned_seq1, aligned_seq2)\n",
        "\n",
        "    vae_max_scores += [score_matrix.max(), score_matrix.max()]\n",
        "\n",
        "\n",
        "plt.hist(vae_max_scores)\n",
        "plt.title(\"Frequency of Local Alignment Scores\")\n",
        "plt.xlabel(\"Score of Local Alignment\")\n",
        "plt.ylabel(\"Frequency\")\n",
        "plt.show()"
      ],
      "metadata": {
        "id": "NCioQNJFSw7_"
      },
      "execution_count": null,
      "outputs": []
    },
    {
      "cell_type": "markdown",
      "source": [
        "VAE+GAN Generated Sequence Local Alignment Score Distribution"
      ],
      "metadata": {
        "id": "MxD4i9egOcPC"
      }
    },
    {
      "cell_type": "code",
      "source": [
        "with open(\"/content/drive/MyDrive/10708 Project/Generated_Sequences/VAE_GAN_sequences.txt\") as f:\n",
        "  all_lines = f.readlines()\n",
        "\n",
        "vae_gan_sequences = []\n",
        "for line in all_lines:\n",
        "  vae_gan_sequences += [line[:-1]]"
      ],
      "metadata": {
        "id": "piwUoBqDvh9I"
      },
      "execution_count": null,
      "outputs": []
    },
    {
      "cell_type": "code",
      "source": [
        "vae_gan_max_scores = []\n",
        "#hmm_sequences = SeqIO.parse(open(\"hmm_generated_sequences.fasta\"),'fasta')\n",
        "for fasta in vae_gan_sequences:\n",
        "    #seq2 = str(fasta.seq)\n",
        "    seq = fasta\n",
        "\n",
        "    # Compute the local alignment between them using the Smith-Waterman algorithm\n",
        "    aligned_seq1, aligned_seq2, score_matrix = sw.get_alignment(consensus_sequence, seq, return_score_matrix=True)\n",
        "\n",
        "    # Print the alignment\n",
        "    #print(f'Here is the local alignment, as computed by the Smith-Waterman algorithm:')\n",
        "    #sw.print_alignment(aligned_seq1, aligned_seq2)\n",
        "\n",
        "    vae_gan_max_scores += [score_matrix.max(), score_matrix.max()]\n",
        "\n",
        "\n",
        "plt.hist(vae_gan_max_scores)\n",
        "plt.title(\"Frequency of Local Alignment Scores\")\n",
        "plt.xlabel(\"Score of Local Alignment\")\n",
        "plt.ylabel(\"Frequency\")\n",
        "plt.show()"
      ],
      "metadata": {
        "id": "QWISD3wIOMLH"
      },
      "execution_count": null,
      "outputs": []
    },
    {
      "cell_type": "markdown",
      "source": [
        "All Scores"
      ],
      "metadata": {
        "id": "NWLkGewVS56P"
      }
    },
    {
      "cell_type": "code",
      "source": [
        "plt.hist(hmm_max_scores, alpha = 0.5, label=\"HMM Local Alignment Scores\")\n",
        "plt.hist(gan_max_scores, alpha = 0.5, label=\"GAN Local Alignment Scores\")\n",
        "plt.hist(vae_max_scores, alpha = 0.5, label=\"VAE Local Alignment Scores\")\n",
        "plt.hist(vae_gan_max_scores, alpha = 0.5, label = \"VAE+GAN Local Alignment Scores\")\n",
        "plt.title(\"Frequency of Local Alignment Scores\")\n",
        "plt.xlabel(\"Score of Local Alignment\")\n",
        "plt.ylabel(\"Frequency\")\n",
        "plt.legend()\n",
        "plt.show()\n",
        "\n"
      ],
      "metadata": {
        "id": "Wj6FsYGxD_tG"
      },
      "execution_count": null,
      "outputs": []
    },
    {
      "cell_type": "code",
      "source": [
        "def gc_content(list_of_sequences):\n",
        "  list_of_GC = []\n",
        "  for sequence in list_of_sequences:\n",
        "    count = 0\n",
        "    for char in sequence:\n",
        "      if char == \"G\" or char == \"C\":\n",
        "        count += 1\n",
        "    list_of_GC += [count/len(sequence)]\n",
        "  return sum(list_of_GC)/len(list_of_GC)\n"
      ],
      "metadata": {
        "id": "Lou3yZ6OuuSt"
      },
      "execution_count": null,
      "outputs": []
    },
    {
      "cell_type": "code",
      "source": [
        "print(\"GC HMM: \", gc_content(hmm_sequences))\n",
        "print(\"GC GAN: \", gc_content(gan_sequences))\n",
        "print(\"GC VAE: \", gc_content(vae_sequences))\n",
        "print(\"GC VAE+GAN: \", gc_content(vae_gan_sequences))"
      ],
      "metadata": {
        "id": "jKsEJ6tzvkiP"
      },
      "execution_count": null,
      "outputs": []
    }
  ]
}